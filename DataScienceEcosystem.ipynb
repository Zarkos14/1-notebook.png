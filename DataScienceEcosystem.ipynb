{
 "cells": [
  {
   "cell_type": "markdown",
   "id": "0feb54c6-2a74-460d-9176-635804b510a9",
   "metadata": {},
   "source": [
    "#DataScienceEcosystem"
   ]
  },
  {
   "cell_type": "markdown",
   "id": "cf5e6a64-67d8-42ac-a7f8-e558001a3882",
   "metadata": {},
   "source": [
    "In this Notebook, Data Science Tools and Ecosystem are summarized. \n"
   ]
  },
  {
   "cell_type": "markdown",
   "id": "9285cde1-e267-483d-8aa7-e97165790cd8",
   "metadata": {},
   "source": [
    "**Objectives of the notebook:**\r\n",
    "\r\n",
    "- Understand fundamental concepts of data science.\r\n",
    "- Learn to use Python for data analysis and manipulation.\r\n",
    "- Familiarize with commonly used libraries in data science."
   ]
  },
  {
   "cell_type": "markdown",
   "id": "4d2c040c-dcc0-433e-b8b5-e9afa9b3121e",
   "metadata": {},
   "source": [
    "Some of the popular languages that Data Sciences use are:\n",
    "1:Python\n",
    "2:SQL\n",
    "3:R\n",
    "4:Scala"
   ]
  },
  {
   "cell_type": "markdown",
   "id": "2ce6ad36-96af-4b3f-bbee-feaf54b4335f",
   "metadata": {},
   "source": [
    "Some of the commonly used libraries used by Data Scientists include:\n",
    "1: Pandas\n",
    "2: NumPy\n",
    "3: Matplotlib"
   ]
  },
  {
   "cell_type": "markdown",
   "id": "fd7653e8-1b81-4c6d-bb36-05ef0e8d587e",
   "metadata": {},
   "source": [
    "| Data Science Tools |\r\n",
    "|--------------------\n",
    "| Pandas             |\r\n",
    "| NumPy              |\r\n",
    "| Matplotlib         ||"
   ]
  },
  {
   "cell_type": "markdown",
   "id": "369b592b-0688-44c8-9f7c-86dd04dda582",
   "metadata": {},
   "source": [
    "### Below are a few examples of evaluating arithmetic expressions in Python"
   ]
  },
  {
   "cell_type": "code",
   "execution_count": 1,
   "id": "3c3278ff-10f4-4e03-9b07-732a4abfd329",
   "metadata": {},
   "outputs": [
    {
     "name": "stdout",
     "output_type": "stream",
     "text": [
      "Il risultato dell'espressione è: 17\n"
     ]
    }
   ],
   "source": [
    "# Questa è una semplice espressione aritmetica per moltiplicare due numeri e sommare un terzo\n",
    "numero_1 = 5\n",
    "numero_2 = 3\n",
    "numero_3 = 2\n",
    "\n",
    "risultato = (numero_1 * numero_2) + numero_3\n",
    "print(\"Il risultato dell'espressione è:\", risultato)"
   ]
  },
  {
   "cell_type": "code",
   "execution_count": 6,
   "id": "7f2bc0dc-0a85-4673-8263-39cc17dc56ec",
   "metadata": {},
   "outputs": [
    {
     "name": "stdout",
     "output_type": "stream",
     "text": [
      "3.3333333333333335\n"
     ]
    }
   ],
   "source": [
    "#This will convert 200 minutes to hours by diving by 60\n",
    "minutes= 200\n",
    "hour= minutes / 60\n",
    "print (hour)"
   ]
  },
  {
   "cell_type": "markdown",
   "id": "cf954c2c-fc05-4334-9b0f-029819c025c9",
   "metadata": {},
   "source": [
    "## Mariano Rosolia"
   ]
  }
 ],
 "metadata": {
  "kernelspec": {
   "display_name": "Python 3 (ipykernel)",
   "language": "python",
   "name": "python3"
  },
  "language_info": {
   "codemirror_mode": {
    "name": "ipython",
    "version": 3
   },
   "file_extension": ".py",
   "mimetype": "text/x-python",
   "name": "python",
   "nbconvert_exporter": "python",
   "pygments_lexer": "ipython3",
   "version": "3.11.7"
  }
 },
 "nbformat": 4,
 "nbformat_minor": 5
}
